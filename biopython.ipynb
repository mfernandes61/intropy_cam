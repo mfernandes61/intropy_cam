{
 "cells": [
  {
   "cell_type": "code",
   "execution_count": null,
   "metadata": {
    "collapsed": false
   },
   "outputs": [],
   "source": [
    "from Bio import Seq\n",
    "my_seq = Seq(\"AGTACACTGGT\")\n",
    "print my_seq\n",
    "print my_seq[10]\n",
    "print my_seq[1:5]\n",
    "print len(my_seq)\n",
    "print my_seq.count( \"A\" )"
   ]
  },
  {
   "cell_type": "code",
   "execution_count": null,
   "metadata": {
    "collapsed": false
   },
   "outputs": [],
   "source": [
    "from Bio.SeqUtils import GC, molecular_weight\n",
    "print GC( my_seq )\n",
    "print molecular_weight( my_seq )"
   ]
  },
  {
   "cell_type": "code",
   "execution_count": null,
   "metadata": {
    "collapsed": false
   },
   "outputs": [],
   "source": [
    "from Bio.SeqUtils import seq3\n",
    "print seq3( my_seq )"
   ]
  },
  {
   "cell_type": "code",
   "execution_count": null,
   "metadata": {
    "collapsed": false
   },
   "outputs": [],
   "source": [
    "from Bio.Alphabet import IUPAC\n",
    "my_dna = Seq(\"AGTACATGACTGGTTTAG\", IUPAC.unambiguous_dna)\n",
    "print my_dna\n",
    "print my_dna.alphabet"
   ]
  },
  {
   "cell_type": "code",
   "execution_count": null,
   "metadata": {
    "collapsed": false
   },
   "outputs": [],
   "source": [
    "my_prot = Seq(\"AGTACACTGGT\", IUPAC.protein)\n",
    "print my_prot\n",
    "print my_prot.alphabet"
   ]
  },
  {
   "cell_type": "code",
   "execution_count": null,
   "metadata": {
    "collapsed": false
   },
   "outputs": [],
   "source": [
    "print my_dna + my_seq"
   ]
  },
  {
   "cell_type": "code",
   "execution_count": null,
   "metadata": {
    "collapsed": false
   },
   "outputs": [],
   "source": [
    "print my_prot + my_seq"
   ]
  },
  {
   "cell_type": "code",
   "execution_count": null,
   "metadata": {
    "collapsed": false
   },
   "outputs": [],
   "source": [
    "print my_dna + my_prot"
   ]
  },
  {
   "cell_type": "code",
   "execution_count": null,
   "metadata": {
    "collapsed": false
   },
   "outputs": [],
   "source": [
    "my_dna.complement()"
   ]
  },
  {
   "cell_type": "code",
   "execution_count": null,
   "metadata": {
    "collapsed": false
   },
   "outputs": [],
   "source": [
    "my_dna.reverse_complement()"
   ]
  },
  {
   "cell_type": "code",
   "execution_count": null,
   "metadata": {
    "collapsed": false
   },
   "outputs": [],
   "source": [
    "my_dna.transcribe()"
   ]
  },
  {
   "cell_type": "code",
   "execution_count": null,
   "metadata": {
    "collapsed": false
   },
   "outputs": [],
   "source": [
    "my_dna.translate()"
   ]
  },
  {
   "cell_type": "code",
   "execution_count": null,
   "metadata": {
    "collapsed": false
   },
   "outputs": [],
   "source": [
    "my_dna.translate( table = \"Vertebrate Mitochondrial\" )"
   ]
  },
  {
   "cell_type": "code",
   "execution_count": null,
   "metadata": {
    "collapsed": false
   },
   "outputs": [],
   "source": [
    "from Bio import SeqIO\n",
    "\n",
    "fileObj = open( \"data/glpa.fa\", \"rU\" )\n",
    "\n",
    "protein = SeqIO.read(fileObj, 'fasta', alphabet = IUPAC.protein)\n",
    "print protein.id\n",
    "print protein.seq\n",
    "print protein.seq.alphabet"
   ]
  },
  {
   "cell_type": "code",
   "execution_count": null,
   "metadata": {
    "collapsed": false
   },
   "outputs": [],
   "source": [
    "fileObj = open( \"data/glpa.fa\", \"rU\" )\n",
    "\n",
    "for seq in SeqIO.parse(fileObj, 'fasta', alphabet = IUPAC.protein):\n",
    "    print protein.id\n",
    "    print protein.seq\n",
    "    print protein.seq.alphabet"
   ]
  },
  {
   "cell_type": "code",
   "execution_count": null,
   "metadata": {
    "collapsed": false
   },
   "outputs": [],
   "source": [
    "from Bio import Entrez\n",
    "\n",
    "socketObj = Entrez.efetch(db=\"protein\", rettype=\"fasta\",\n",
    "                         id=\"71066805\")\n",
    "dnaObj = SeqIO.read(socketObj, \"fasta\")\n",
    "socketObj.close()\n",
    "\n",
    "print dnaObj.description\n",
    "#print dnaObj.seq\n",
    "print dnaObj.seq.alphabet"
   ]
  },
  {
   "cell_type": "code",
   "execution_count": null,
   "metadata": {
    "collapsed": false
   },
   "outputs": [],
   "source": [
    "from Bio import Entrez\n",
    "\n",
    "socketObj = Entrez.efetch(db=\"protein\", rettype=\"gb\",\n",
    "                         id=\"71066805\")\n",
    "dnaObj = SeqIO.read(socketObj, \"gb\")\n",
    "socketObj.close()\n",
    "\n",
    "print dnaObj.description\n",
    "#print dnaObj.seq\n",
    "print dnaObj.seq.alphabet"
   ]
  },
  {
   "cell_type": "code",
   "execution_count": null,
   "metadata": {
    "collapsed": false
   },
   "outputs": [],
   "source": [
    "# Read SWISSPROT record\n",
    "from Bio import ExPASy\n",
    "\n",
    "socketObj = ExPASy.get_sprot_raw('HBB_HUMAN')\n",
    "proteinObj = SeqIO.read(socketObj, \"swiss\")\n",
    "socketObj.close()\n",
    "\n",
    "print proteinObj.description\n",
    "print proteinObj.seq"
   ]
  },
  {
   "cell_type": "code",
   "execution_count": null,
   "metadata": {
    "collapsed": false
   },
   "outputs": [],
   "source": [
    "count = SeqIO.convert(\"data/glpa.fa\", \"fasta\", \"data/glpa.cl\", \"clustal\")\n",
    "print count"
   ]
  },
  {
   "cell_type": "code",
   "execution_count": null,
   "metadata": {
    "collapsed": false
   },
   "outputs": [],
   "source": [
    "print open( \"data/glpa.cl\" ).read()"
   ]
  }
 ],
 "metadata": {
  "kernelspec": {
   "display_name": "Python 2",
   "language": "python",
   "name": "python2"
  },
  "language_info": {
   "codemirror_mode": {
    "name": "ipython",
    "version": 2
   },
   "file_extension": ".py",
   "mimetype": "text/x-python",
   "name": "python",
   "nbconvert_exporter": "python",
   "pygments_lexer": "ipython2",
   "version": "2.7.9"
  }
 },
 "nbformat": 4,
 "nbformat_minor": 0
}
