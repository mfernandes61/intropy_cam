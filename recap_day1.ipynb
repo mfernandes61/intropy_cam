{
 "cells": [
  {
   "cell_type": "markdown",
   "metadata": {},
   "source": [
    "# Recap Day 1: What We Learned"
   ]
  },
  {
   "cell_type": "markdown",
   "metadata": {},
   "source": [
    "## Collections"
   ]
  },
  {
   "cell_type": "code",
   "execution_count": null,
   "metadata": {
    "collapsed": false
   },
   "outputs": [],
   "source": [
    "## A tuple - immutable\n",
    "example_tuple = (2,3,4,5)\n",
    "print 'A tuple:', example_tuple\n",
    "print 'First element of tuple:', example_tuple[0]\n",
    "print '----------'\n",
    "\n",
    "## A list\n",
    "example_list = [2,3,4,5]\n",
    "print 'A list:', example_list\n",
    "print 'First element of list:', example_list[0]\n",
    "example_list.append(12)\n",
    "print 'Appended list:', example_list\n",
    "print '----------'\n",
    "\n",
    "## String - immutable, tuple of characters\n",
    "text = \"ATGTCATTT\"\n",
    "print 'Here is a string:', text\n",
    "print '----------'\n",
    "\n",
    "## A set - unique unordered elements\n",
    "example_set = set([1,2,2,2,2,4,5,6,6,6])\n",
    "print 'A set:', example_set\n",
    "print '----------'\n",
    "\n",
    "## A Dictionary\n",
    "example_dictionary = {\"A\": \"Adenine\", \"C\": \"Cytosine\", \"G\": \"Guanine\", \"T\": \"Thymine\"}\n",
    "print 'A dictionary:', example_dictionary\n",
    "print 'Value in dictionary associated to key C:', example_dictionary['C']\n"
   ]
  },
  {
   "cell_type": "markdown",
   "metadata": {},
   "source": [
    "## Conditional execution"
   ]
  },
  {
   "cell_type": "code",
   "execution_count": null,
   "metadata": {
    "collapsed": false
   },
   "outputs": [],
   "source": [
    "x = 2\n",
    "print 'Is 2 < 5?', x < 5\n",
    "print 'Is 2 == 5?', x == 5\n",
    "print 'Is 2 < 5 and 2 > 1?', (x < 5) & (x > 1)\n",
    "\n",
    "if x == 2:\n",
    "    print 'x is equal to 2'"
   ]
  },
  {
   "cell_type": "markdown",
   "metadata": {},
   "source": [
    "## Loops"
   ]
  },
  {
   "cell_type": "code",
   "execution_count": null,
   "metadata": {
    "collapsed": false
   },
   "outputs": [],
   "source": [
    "example_list = ['A', 'C', 'A', 'T', 'G']\n",
    "example_dictionary = {\"A\": \"Adenine\", \"C\": \"Cytosine\", \"G\": \"Guanine\", \"T\": \"Thymine\"}\n",
    "\n",
    "print 'Looping over a list', example_list\n",
    "for element in example_list:\n",
    "    print \"The element in loop is:\", element\n",
    "print '----------'\n",
    "\n",
    "## Looping through list indices\n",
    "print 'Looping over a list through list indices', range(len(example_list))\n",
    "for index in range(len(example_list)):\n",
    "    print \"The index in loop is\", index, 'and its corresponding element is in the list', example_list[index]\n",
    "print '----------'\n",
    "\n",
    "## Looping using enumerate\n",
    "print 'A list', example_list\n",
    "for index, value in enumerate(example_list):\n",
    "    if value == 'A':\n",
    "        print value, \"found, the corresponding value is\", example_dictionary[value], 'for item at position', index\n",
    "    elif value == 'T':\n",
    "        print value, \"found, the corresponding value is\", example_dictionary[value], 'for item at position', index\n",
    "    else:\n",
    "        print \"Other value\", 'for item at position', index"
   ]
  },
  {
   "cell_type": "markdown",
   "metadata": {},
   "source": [
    "## Functions used so far..."
   ]
  },
  {
   "cell_type": "code",
   "execution_count": null,
   "metadata": {
    "collapsed": false
   },
   "outputs": [],
   "source": [
    "example_list = ['A', 'C', 'A', 'T', 'G']\n",
    "print 'There are', len(example_list), 'elements in the list', example_list\n",
    "print \"ATG TCA CCG GGC\".split()"
   ]
  }
 ],
 "metadata": {
  "kernelspec": {
   "display_name": "Python 2",
   "language": "python",
   "name": "python2"
  },
  "language_info": {
   "codemirror_mode": {
    "name": "ipython",
    "version": 2
   },
   "file_extension": ".py",
   "mimetype": "text/x-python",
   "name": "python",
   "nbconvert_exporter": "python",
   "pygments_lexer": "ipython2",
   "version": "2.7.10"
  }
 },
 "nbformat": 4,
 "nbformat_minor": 0
}
